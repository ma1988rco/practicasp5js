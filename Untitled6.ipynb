{
 "cells": [
  {
   "cell_type": "code",
   "execution_count": 48,
   "metadata": {
    "scrolled": true
   },
   "outputs": [
    {
     "data": {
      "text/html": [
       "\n",
       "        <iframe\n",
       "            width=\"100%\"\n",
       "            height=\"400\"\n",
       "            src=\"p5-3.html\"\n",
       "            frameborder=\"0\"\n",
       "            allowfullscreen\n",
       "        ></iframe>\n",
       "        "
      ],
      "text/plain": [
       "<IPython.lib.display.IFrame at 0x104d77518>"
      ]
     },
     "execution_count": 48,
     "metadata": {},
     "output_type": "execute_result"
    }
   ],
   "source": [
    "%%p5\n",
    "\n",
    "  var x = 100; // variables de los ejes\n",
    "  var y = 100;\n",
    "\n",
    "  function setup () { // Ejecuta una vez cuando el programa comienza\n",
    "    createCanvas(700, 410);\n",
    "  };\n",
    "\n",
    "  function draw () {\n",
    "    background(0);\n",
    "    fill(255);\n",
    "    rect(x,y,50,50);\n",
    "  };"
   ]
  },
  {
   "cell_type": "code",
   "execution_count": null,
   "metadata": {},
   "outputs": [],
   "source": []
  },
  {
   "cell_type": "code",
   "execution_count": 49,
   "metadata": {},
   "outputs": [
    {
     "data": {
      "text/html": [
       "\n",
       "        <iframe\n",
       "            width=\"100%\"\n",
       "            height=\"400\"\n",
       "            src=\"p5-4.html\"\n",
       "            frameborder=\"0\"\n",
       "            allowfullscreen\n",
       "        ></iframe>\n",
       "        "
      ],
      "text/plain": [
       "<IPython.lib.display.IFrame at 0x104d77390>"
      ]
     },
     "execution_count": 49,
     "metadata": {},
     "output_type": "execute_result"
    }
   ],
   "source": [
    "%%p5\n",
    "\n",
    "  var x = 100; \n",
    "  var y = 100;\n",
    "\n",
    "  function setup () {\n",
    "    createCanvas(600, 400);\n",
    "  };\n",
    "\n",
    "  function draw () {\n",
    "    background(0);\n",
    "    fill(255);\n",
    "    rect(x,y,150,150);\n",
    "  };\n"
   ]
  },
  {
   "cell_type": "code",
   "execution_count": 50,
   "metadata": {},
   "outputs": [
    {
     "data": {
      "text/html": [
       "\n",
       "        <iframe\n",
       "            width=\"100%\"\n",
       "            height=\"400\"\n",
       "            src=\"p5-5.html\"\n",
       "            frameborder=\"0\"\n",
       "            allowfullscreen\n",
       "        ></iframe>\n",
       "        "
      ],
      "text/plain": [
       "<IPython.lib.display.IFrame at 0x104e2ff60>"
      ]
     },
     "execution_count": 50,
     "metadata": {},
     "output_type": "execute_result"
    }
   ],
   "source": [
    "%%p5 \n",
    "\n",
    "var capture;\n",
    "\n",
    "function setup() {\n",
    "  createCanvas(390, 240);\n",
    "  capture = createCapture(VIDEO);\n",
    "  capture.size(320, 240);\n",
    "  //capture.hide();\n",
    "}\n",
    "\n",
    "function draw() {\n",
    "  background(255);\n",
    "  image(capture, 0, 0, 320, 240);\n",
    "  filter('INVERT');\n",
    "}"
   ]
  },
  {
   "cell_type": "code",
   "execution_count": 113,
   "metadata": {},
   "outputs": [
    {
     "data": {
      "text/html": [
       "\n",
       "        <iframe\n",
       "            width=\"100%\"\n",
       "            height=\"400\"\n",
       "            src=\"p5-62.html\"\n",
       "            frameborder=\"0\"\n",
       "            allowfullscreen\n",
       "        ></iframe>\n",
       "        "
      ],
      "text/plain": [
       "<IPython.lib.display.IFrame at 0x104e23ba8>"
      ]
     },
     "execution_count": 113,
     "metadata": {},
     "output_type": "execute_result"
    }
   ],
   "source": [
    "%%p5\n",
    "\n",
    "function setup() {\n",
    "  // establece que la pantalla 720 pixels de ancho and 400 pixels alto\n",
    "  createCanvas(720, 400);\n",
    "}\n",
    "\n",
    "function draw() {\n",
    "  // establecer un fondo de color negro\n",
    "  background(0);\n",
    "  noFill();\n",
    "\n",
    "  // TLos dos parametros del metodo point () especifica cada uno\n",
    "  // coordinates.\n",
    "  // El primer parametro es la coordenada x y el segundoes el  Y \n",
    "  stroke(255);\n",
    "  point(width * 0.5, height * 0.5);\n",
    "  point(width * 0.5, height * 0.25); \n",
    "\n",
    "  // Las cordenadas se usan para dibujar todas las formas\n",
    "  // Los parametros para diferentes funciones se usan para diferentes\n",
    "  // Propositos. por ejemplo, los prmeros dos parametros para alinear   \n",
    "  // especifica las coordenadas del primer punto final y el segundo \n",
    "  // dos parametros especifican el segundo punto final\n",
    "  stroke(0, 153, 255);\n",
    "  line(0, height*0.33, width, height*0.33);\n",
    "\n",
    "  // por defecto, los primeros dos parametros para rect()son\n",
    "  // cordenadas de la esquna superior izquierda y el segundo \n",
    "  // es el ancho y la altura\n",
    "  stroke(255, 153, 0);\n",
    "  rect(width*0.25, height*0.1, width * 0.5, height * 0.8);\n",
    "}\n"
   ]
  },
  {
   "cell_type": "code",
   "execution_count": 115,
   "metadata": {},
   "outputs": [
    {
     "data": {
      "text/html": [
       "\n",
       "        <iframe\n",
       "            width=\"100%\"\n",
       "            height=\"400\"\n",
       "            src=\"p5-63.html\"\n",
       "            frameborder=\"0\"\n",
       "            allowfullscreen\n",
       "        ></iframe>\n",
       "        "
      ],
      "text/plain": [
       "<IPython.lib.display.IFrame at 0x104e23d68>"
      ]
     },
     "execution_count": 115,
     "metadata": {},
     "output_type": "execute_result"
    }
   ],
   "source": [
    "%%p5\n",
    "\n",
    "var y = 100;\n",
    "\n",
    "// Ejecuta una vez cuando el programa comienza \n",
    "function setup() {\n",
    "\t// createCanvas debe ser la primera declaracion \n",
    "  createCanvas(720, 400);  \n",
    "  stroke(255);     // Establece el color de la linea \n",
    "  frameRate(30);\n",
    "}\n",
    "\n",
    "function draw() { \n",
    "  background(0);   // Establece el fondo negro\n",
    "  y = y - 1; \n",
    "  if (y < 0) { \n",
    "    y = height; \n",
    "  } \n",
    "  line(0, y, width, y);  \n",
    "} "
   ]
  },
  {
   "cell_type": "code",
   "execution_count": 117,
   "metadata": {},
   "outputs": [
    {
     "data": {
      "text/html": [
       "\n",
       "        <iframe\n",
       "            width=\"100%\"\n",
       "            height=\"400\"\n",
       "            src=\"p5-64.html\"\n",
       "            frameborder=\"0\"\n",
       "            allowfullscreen\n",
       "        ></iframe>\n",
       "        "
      ],
      "text/plain": [
       "<IPython.lib.display.IFrame at 0x104e50588>"
      ]
     },
     "execution_count": 117,
     "metadata": {},
     "output_type": "execute_result"
    }
   ],
   "source": [
    "%%p5\n",
    "\n",
    "function setup() {\n",
    "  \n",
    "  var d = 70;\n",
    "  var p1 = d;\n",
    "  var p2 = p1+d;\n",
    "  var p3 = p2+d;\n",
    "  var p4 = p3+d;\n",
    "\n",
    "  // Establece que la pantalla tenga 720 pixeles de ancho y 400 pixeles\n",
    "  createCanvas(720, 400);\n",
    "  background(0);\n",
    "  noSmooth();\n",
    "\n",
    "  translate(140, 0);\n",
    "\n",
    "  // dibujar cuandro\n",
    "  stroke(153);\n",
    "  line(p3, p3, p2, p3);\n",
    "  line(p2, p3, p2, p2);\n",
    "  line(p2, p2, p3, p2);\n",
    "  line(p3, p2, p3, p3);\n",
    "\n",
    "  // dibujar los puntos\n",
    "  stroke(255);\n",
    "  point(p1, p1);\n",
    "  point(p1, p3); \n",
    "  point(p2, p4);\n",
    "  point(p3, p1); \n",
    "  point(p4, p2);\n",
    "  point(p4, p4);\n",
    "}"
   ]
  },
  {
   "cell_type": "code",
   "execution_count": 118,
   "metadata": {},
   "outputs": [
    {
     "data": {
      "text/html": [
       "\n",
       "        <iframe\n",
       "            width=\"100%\"\n",
       "            height=\"400\"\n",
       "            src=\"p5-65.html\"\n",
       "            frameborder=\"0\"\n",
       "            allowfullscreen\n",
       "        ></iframe>\n",
       "        "
      ],
      "text/plain": [
       "<IPython.lib.display.IFrame at 0x104e50748>"
      ]
     },
     "execution_count": 118,
     "metadata": {},
     "output_type": "execute_result"
    }
   ],
   "source": [
    "%%p5\n",
    "\n",
    "function setup() {  //comienzo \n",
    "\n",
    "  createCanvas(720, 400); //tamaño de la visualizacion\n",
    "  background(0);\n",
    "  stroke(153);\n",
    "  strokeWeight(4);\n",
    "  strokeCap(SQUARE);\n",
    "\n",
    "  var a = 50; // variables \n",
    "  var b = 120;\n",
    "  var c = 180;\n",
    "\n",
    "  line(a, b, a+c, b);       // tamaño de las lineas \n",
    "  line(a, b+10, a+c, b+10);\n",
    "  line(a, b+20, a+c, b+20);\n",
    "  line(a, b+30, a+c, b+30);\n",
    "\n",
    "  a = a + c;\n",
    "  b = height-b;\n",
    "\n",
    "  line(a, b, a+c, b);\n",
    "  line(a, b+10, a+c, b+10);\n",
    "  line(a, b+20, a+c, b+20);\n",
    "  line(a, b+30, a+c, b+30);\n",
    "\n",
    "  a = a + c;\n",
    "  b = height-b;\n",
    "\n",
    "  line(a, b, a+c, b);\n",
    "  line(a, b+10, a+c, b+10);\n",
    "  line(a, b+20, a+c, b+20);\n",
    "  line(a, b+30, a+c, b+30);\n",
    "}"
   ]
  },
  {
   "cell_type": "code",
   "execution_count": 51,
   "metadata": {},
   "outputs": [
    {
     "data": {
      "text/html": [
       "\n",
       "        <iframe\n",
       "            width=\"100%\"\n",
       "            height=\"400\"\n",
       "            src=\"p5-6.html\"\n",
       "            frameborder=\"0\"\n",
       "            allowfullscreen\n",
       "        ></iframe>\n",
       "        "
      ],
      "text/plain": [
       "<IPython.lib.display.IFrame at 0x104d77668>"
      ]
     },
     "execution_count": 51,
     "metadata": {},
     "output_type": "execute_result"
    }
   ],
   "source": [
    "%%p5 \n",
    "\n",
    "function setup() { // iniciar la funcion//\n",
    "  createCanvas(640, 480); //tamaño de tu visualizacion//\n",
    "}\n",
    "\n",
    "function draw() {\n",
    "  if (mouseIsPressed) { // movimiento del mouse //\n",
    "    fill(0);\n",
    "  } else {\n",
    "    fill(255);\n",
    "  }\n",
    "  ellipse(mouseX, mouseY, 80, 80); // poder mover el mouse de arriba hacia abajo\n",
    "}"
   ]
  },
  {
   "cell_type": "code",
   "execution_count": 100,
   "metadata": {},
   "outputs": [
    {
     "data": {
      "text/html": [
       "\n",
       "        <iframe\n",
       "            width=\"100%\"\n",
       "            height=\"400\"\n",
       "            src=\"p5-49.html\"\n",
       "            frameborder=\"0\"\n",
       "            allowfullscreen\n",
       "        ></iframe>\n",
       "        "
      ],
      "text/plain": [
       "<IPython.lib.display.IFrame at 0x104e48f60>"
      ]
     },
     "execution_count": 100,
     "metadata": {},
     "output_type": "execute_result"
    }
   ],
   "source": [
    "%%p5\n",
    "\n",
    "function setup() { // es para ejecutar el bloque una vez y normalmente se usa para iniciar//\n",
    "    \n",
    "  createCanvas(720, 400); /*Es para crear un lienzo para poder colocar tu visualizacion del tamaño que tu quieras*/\n",
    "}\n",
    "\n",
    "function draw() { // crea un bloque que le permite la incorporacion de la animacion  \n",
    "  background(102); // color del lienzo //\n",
    "  \n",
    "  push();\n",
    "  translate(width*0.2, height*0.5); //La posicion de tu imagen//\n",
    "  rotate(frameCount / 200.0); // la forma de como va a rotar la estrela// \n",
    "  star(0, 0, 5, 70, 6); //la forma de tu estrella //\n",
    "  pop();\n",
    "  \n",
    "  push()\n",
    "  translate(width*0.5, height*0.5);\n",
    "  rotate(frameCount / 50.0);\n",
    "  star(0, 0, 80, 100, 40); \n",
    "  pop();\n",
    "  \n",
    "  push();\n",
    "  translate(width*0.8, height*0.5);\n",
    "  rotate(frameCount / -100.0);\n",
    "  star(0, 0, 30, 70, 5); \n",
    "  pop();\n",
    "}\n",
    "\n",
    "function star(x, y, radius1, radius2, npoints) { //es la parte que \n",
    "  var angle = TWO_PI / npoints;\n",
    "  var halfAngle = angle/2.0;\n",
    "  beginShape();\n",
    "  for (var a = 0; a < TWO_PI; a += angle) { \n",
    "    var sx = x + cos(a) * radius2;\n",
    "    var sy = y + sin(a) * radius2;\n",
    "    vertex(sx, sy);\n",
    "    sx = x + cos(a+halfAngle) * radius1;\n",
    "    sy = y + sin(a+halfAngle) * radius1;\n",
    "    vertex(sx, sy);\n",
    "  }\n",
    "  endShape(CLOSE);\n",
    "}"
   ]
  },
  {
   "cell_type": "code",
   "execution_count": 105,
   "metadata": {},
   "outputs": [
    {
     "data": {
      "text/html": [
       "\n",
       "        <iframe\n",
       "            width=\"100%\"\n",
       "            height=\"400\"\n",
       "            src=\"p5-54.html\"\n",
       "            frameborder=\"0\"\n",
       "            allowfullscreen\n",
       "        ></iframe>\n",
       "        "
      ],
      "text/plain": [
       "<IPython.lib.display.IFrame at 0x104e50128>"
      ]
     },
     "execution_count": 105,
     "metadata": {},
     "output_type": "execute_result"
    }
   ],
   "source": [
    "%%p5\n",
    "\n",
    "var x = 0;\n",
    "\n",
    "function setup() { //inicio de la funcion//\n",
    "  background(100);  // color//\n",
    "   \n",
    "\n",
    "}\n",
    "\n",
    "function draw() {\n",
    "  ellipse(x, height/2, 20, 20); //movimiento de la figura//\n",
    "  x = x + 1;\n",
    "}"
   ]
  },
  {
   "cell_type": "code",
   "execution_count": 110,
   "metadata": {},
   "outputs": [
    {
     "data": {
      "text/html": [
       "\n",
       "        <iframe\n",
       "            width=\"100%\"\n",
       "            height=\"400\"\n",
       "            src=\"p5-59.html\"\n",
       "            frameborder=\"0\"\n",
       "            allowfullscreen\n",
       "        ></iframe>\n",
       "        "
      ],
      "text/plain": [
       "<IPython.lib.display.IFrame at 0x104e23e10>"
      ]
     },
     "execution_count": 110,
     "metadata": {},
     "output_type": "execute_result"
    }
   ],
   "source": [
    "%%p5\n",
    "\n",
    "var x; //nombre de las variable//\n",
    "var y; //nombre de las variable//\n",
    "var outsideRadius = 150; //tamaño del radio de la figura //\n",
    "var insideRadius = 100; //tamaño del radio de la figura //\n",
    "\n",
    "function setup() { // es para ejecutar el bloque una vez y normalmente se usa para iniciar//\n",
    "  createCanvas(720, 400);\n",
    "  background(204);\n",
    "  x = width/2;\n",
    "  y = height/2;\n",
    "}\n",
    "\n",
    "function draw() {\n",
    "  background(204);\n",
    "\n",
    "  var numPoints = int(map(mouseX, 0, width, 6, 60)); //movimineto de tu figura pero con el mouse //\n",
    "  var angle = 0;\n",
    "  var angleStep = 180.0/numPoints;\n",
    "\n",
    "  beginShape(TRIANGLE_STRIP);\n",
    "  for (var i = 0; i <= numPoints; i++) {\n",
    "    var px = x + cos(radians(angle)) * outsideRadius; // \n",
    "    var py = y + sin(radians(angle)) * outsideRadius;\n",
    "    angle += angleStep;\n",
    "    vertex(px, py);\n",
    "    px = x + cos(radians(angle)) * insideRadius;\n",
    "    py = y + sin(radians(angle)) * insideRadius;\n",
    "    vertex(px, py);\n",
    "    angle += angleStep;\n",
    "  }\n",
    "  endShape();\n",
    "}"
   ]
  },
  {
   "cell_type": "code",
   "execution_count": 119,
   "metadata": {},
   "outputs": [
    {
     "data": {
      "text/html": [
       "\n",
       "        <iframe\n",
       "            width=\"100%\"\n",
       "            height=\"400\"\n",
       "            src=\"p5-66.html\"\n",
       "            frameborder=\"0\"\n",
       "            allowfullscreen\n",
       "        ></iframe>\n",
       "        "
      ],
      "text/plain": [
       "<IPython.lib.display.IFrame at 0x104e50780>"
      ]
     },
     "execution_count": 119,
     "metadata": {},
     "output_type": "execute_result"
    }
   ],
   "source": [
    "%%p5\n",
    "\n",
    "function setup() {  //comienzo \n",
    "\n",
    "  createCanvas(720, 400); //tamaño del visualizador\n",
    "  background(0); // color de fondo\n",
    "  stroke(255); //\n",
    "\n",
    "  var b = false;\n",
    "  var d = 20;\n",
    "  var middle = width/2;\n",
    "\n",
    "  for (var i = d; i <= width; i += d) {  // tamaño de las lineas \n",
    "    \n",
    "    if (i < middle) {\n",
    "      b = true;\n",
    "    } else {\n",
    "      b = false;\n",
    "    }\n",
    "    \n",
    "    if (b == true) {\n",
    "      // linea vertical\n",
    "      line(i, d, i, height-d);\n",
    "    }\n",
    "    \n",
    "    if (b == false) {\n",
    "      // linea horizontal\n",
    "      line(middle, i - middle + d, width-d, i - middle + d);\n",
    "    }\n",
    "  }\n",
    "}"
   ]
  },
  {
   "cell_type": "code",
   "execution_count": 121,
   "metadata": {},
   "outputs": [
    {
     "data": {
      "text/html": [
       "\n",
       "        <iframe\n",
       "            width=\"100%\"\n",
       "            height=\"400\"\n",
       "            src=\"p5-68.html\"\n",
       "            frameborder=\"0\"\n",
       "            allowfullscreen\n",
       "        ></iframe>\n",
       "        "
      ],
      "text/plain": [
       "<IPython.lib.display.IFrame at 0x104e50a20>"
      ]
     },
     "execution_count": 121,
     "metadata": {},
     "output_type": "execute_result"
    }
   ],
   "source": [
    "%%p5\n",
    "\n",
    "var img;  // declaras una imagen '\n",
    "\n",
    "function setup() {\n",
    "  createCanvas(720, 400); \n",
    "  img = createImage(230, 230); //tamaño y creacion de la imagen \n",
    "  img.loadPixels();\n",
    "  for(var x = 0; x < img.width; x++) {\n",
    "    for(var y = 0; y < img.height; y++) {\n",
    "      var a = map(y, 0, img.height, 255, 0);\n",
    "      img.set(x, y, [0, 153, 204, a]); \n",
    "    }\n",
    "  }\n",
    "  img.updatePixels();\n",
    "}\n",
    "\n",
    "function draw() {\n",
    "  background(0);\n",
    "  image(img, 90, 80);\n",
    "  image(img, mouseX-img.width/2, mouseY-img.height/2);\n",
    "}"
   ]
  },
  {
   "cell_type": "code",
   "execution_count": null,
   "metadata": {},
   "outputs": [],
   "source": []
  }
 ],
 "metadata": {
  "kernelspec": {
   "display_name": "Python 3",
   "language": "python",
   "name": "python3"
  },
  "language_info": {
   "codemirror_mode": {
    "name": "ipython",
    "version": 3
   },
   "file_extension": ".py",
   "mimetype": "text/x-python",
   "name": "python",
   "nbconvert_exporter": "python",
   "pygments_lexer": "ipython3",
   "version": "3.6.4"
  }
 },
 "nbformat": 4,
 "nbformat_minor": 2
}
